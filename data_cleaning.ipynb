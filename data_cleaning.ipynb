{
 "cells": [
  {
   "cell_type": "code",
   "execution_count": 1,
   "metadata": {},
   "outputs": [],
   "source": [
    "import pandas as pd"
   ]
  },
  {
   "cell_type": "code",
   "execution_count": 61,
   "metadata": {},
   "outputs": [
    {
     "data": {
      "text/plain": [
       "(5047, 10)"
      ]
     },
     "execution_count": 61,
     "metadata": {},
     "output_type": "execute_result"
    }
   ],
   "source": [
    "df = pd.read_csv('bioactive_peptides_all_pages.csv')\n",
    "df.shape"
   ]
  },
  {
   "cell_type": "code",
   "execution_count": 62,
   "metadata": {},
   "outputs": [
    {
     "data": {
      "text/plain": [
       "Index(['activity', 'ID', 'Name', 'Sequence', 'Chem. mass', 'Monois. mass',\n",
       "       'Unnamed: 6', 'SMILES', 'InChI', 'InChIKey'],\n",
       "      dtype='object')"
      ]
     },
     "execution_count": 62,
     "metadata": {},
     "output_type": "execute_result"
    }
   ],
   "source": [
    "df.columns"
   ]
  },
  {
   "cell_type": "code",
   "execution_count": 63,
   "metadata": {},
   "outputs": [
    {
     "data": {
      "text/plain": [
       "(5047, 10)"
      ]
     },
     "execution_count": 63,
     "metadata": {},
     "output_type": "execute_result"
    }
   ],
   "source": [
    "df.loc[df['activity'].str.startswith('Peptide'), 'activity'] = ''\n",
    "df.shape"
   ]
  },
  {
   "cell_type": "code",
   "execution_count": 64,
   "metadata": {},
   "outputs": [],
   "source": [
    "df['function'] = df['activity'] + ' | ' + df['Name']"
   ]
  },
  {
   "cell_type": "code",
   "execution_count": null,
   "metadata": {},
   "outputs": [],
   "source": []
  },
  {
   "cell_type": "code",
   "execution_count": 65,
   "metadata": {},
   "outputs": [
    {
     "data": {
      "text/plain": [
       "320"
      ]
     },
     "execution_count": 65,
     "metadata": {},
     "output_type": "execute_result"
    }
   ],
   "source": [
    "# df['activity'].unique().tolist()\n",
    "# df['function'].unique().tolist()\n",
    "\n",
    "df['function'].isnull().sum()"
   ]
  },
  {
   "cell_type": "code",
   "execution_count": null,
   "metadata": {},
   "outputs": [],
   "source": []
  },
  {
   "cell_type": "code",
   "execution_count": 66,
   "metadata": {},
   "outputs": [
    {
     "data": {
      "text/plain": [
       "(5047, 11)"
      ]
     },
     "execution_count": 66,
     "metadata": {},
     "output_type": "execute_result"
    }
   ],
   "source": [
    "df.drop_duplicates()\n",
    "df.shape"
   ]
  },
  {
   "cell_type": "code",
   "execution_count": 67,
   "metadata": {},
   "outputs": [
    {
     "data": {
      "text/plain": [
       "Index(['activity', 'ID', 'Name', 'Sequence', 'Chem. mass', 'Monois. mass',\n",
       "       'Unnamed: 6', 'SMILES', 'InChI', 'InChIKey', 'function'],\n",
       "      dtype='object')"
      ]
     },
     "execution_count": 67,
     "metadata": {},
     "output_type": "execute_result"
    }
   ],
   "source": [
    "df.columns"
   ]
  },
  {
   "cell_type": "code",
   "execution_count": 68,
   "metadata": {},
   "outputs": [
    {
     "data": {
      "text/plain": [
       "(5047, 7)"
      ]
     },
     "execution_count": 68,
     "metadata": {},
     "output_type": "execute_result"
    }
   ],
   "source": [
    "df.drop(['Name','activity','ID', 'InChIKey'],axis=1, inplace=True)\n",
    "df.shape"
   ]
  },
  {
   "cell_type": "code",
   "execution_count": 69,
   "metadata": {},
   "outputs": [
    {
     "data": {
      "text/plain": [
       "Index(['Sequence', 'Chem. mass', 'Monois. mass', 'Unnamed: 6', 'SMILES',\n",
       "       'InChI', 'function'],\n",
       "      dtype='object')"
      ]
     },
     "execution_count": 69,
     "metadata": {},
     "output_type": "execute_result"
    }
   ],
   "source": [
    "df.columns"
   ]
  },
  {
   "cell_type": "code",
   "execution_count": 70,
   "metadata": {},
   "outputs": [],
   "source": [
    "df = df.rename(columns={'Unnamed: 6': 'ic50_ec50'})\n"
   ]
  },
  {
   "cell_type": "code",
   "execution_count": 71,
   "metadata": {},
   "outputs": [
    {
     "data": {
      "text/plain": [
       "Index(['Sequence', 'Chem. mass', 'Monois. mass', 'ic50_ec50', 'SMILES',\n",
       "       'InChI', 'function'],\n",
       "      dtype='object')"
      ]
     },
     "execution_count": 71,
     "metadata": {},
     "output_type": "execute_result"
    }
   ],
   "source": [
    "df.columns"
   ]
  },
  {
   "cell_type": "code",
   "execution_count": 73,
   "metadata": {},
   "outputs": [],
   "source": [
    "df = df.rename(columns={'Unnamed: 6': 'ic50_ec50', 'Chem. mass': 'Cmass', 'Monois. mass': 'Mmass', 'InChI': 'inchi', 'SMILES': 'smiles'})\n"
   ]
  },
  {
   "cell_type": "code",
   "execution_count": 74,
   "metadata": {},
   "outputs": [
    {
     "data": {
      "text/plain": [
       "Index(['Sequence', 'Cmass', 'Mmass', 'ic50_ec50', 'smiles', 'inchi',\n",
       "       'function'],\n",
       "      dtype='object')"
      ]
     },
     "execution_count": 74,
     "metadata": {},
     "output_type": "execute_result"
    }
   ],
   "source": [
    "df.columns"
   ]
  },
  {
   "cell_type": "code",
   "execution_count": 75,
   "metadata": {},
   "outputs": [
    {
     "data": {
      "text/plain": [
       "(4993, 7)"
      ]
     },
     "execution_count": 75,
     "metadata": {},
     "output_type": "execute_result"
    }
   ],
   "source": [
    "df = df[~df['Sequence'].astype(str).apply(lambda x: x.startswith('<'))]\n",
    "df.shape"
   ]
  },
  {
   "cell_type": "code",
   "execution_count": 76,
   "metadata": {},
   "outputs": [
    {
     "name": "stdout",
     "output_type": "stream",
     "text": [
      "Sequence =  4077\n",
      "inchi =  2753\n",
      "EC50 =  1196\n",
      "smiles =  2570\n",
      "functions =  1188\n"
     ]
    }
   ],
   "source": [
    "print(\"Sequence = \",len(df['Sequence'].unique()))\n",
    "print(\"inchi = \",len(df['inchi'].unique()))\n",
    "print(\"EC50 = \",len(df['ic50_ec50'].unique()))\n",
    "print(\"smiles = \",len(df['smiles'].unique()))\n",
    "print(\"functions = \",len(df['function'].unique()))"
   ]
  },
  {
   "cell_type": "code",
   "execution_count": 82,
   "metadata": {},
   "outputs": [
    {
     "data": {
      "text/plain": [
       "1"
      ]
     },
     "execution_count": 82,
     "metadata": {},
     "output_type": "execute_result"
    }
   ],
   "source": [
    "df['Sequence'].isnull().sum()\n"
   ]
  },
  {
   "cell_type": "code",
   "execution_count": 83,
   "metadata": {},
   "outputs": [
    {
     "data": {
      "text/plain": [
       "(4992, 7)"
      ]
     },
     "execution_count": 83,
     "metadata": {},
     "output_type": "execute_result"
    }
   ],
   "source": [
    "df = df.dropna(subset=['Sequence'])\n",
    "df.shape"
   ]
  },
  {
   "cell_type": "code",
   "execution_count": 95,
   "metadata": {},
   "outputs": [
    {
     "name": "stderr",
     "output_type": "stream",
     "text": [
      "C:\\Users\\ASUS\\AppData\\Local\\Temp\\ipykernel_24588\\4292525003.py:17: SettingWithCopyWarning: \n",
      "A value is trying to be set on a copy of a slice from a DataFrame.\n",
      "Try using .loc[row_indexer,col_indexer] = value instead\n",
      "\n",
      "See the caveats in the documentation: https://pandas.pydata.org/pandas-docs/stable/user_guide/indexing.html#returning-a-view-versus-a-copy\n",
      "  df['ic50_ec50'] = df['ic50_ec50'].apply(convert_value)\n"
     ]
    }
   ],
   "source": [
    "def convert_value(value):\n",
    "      \"\"\"Converts a string value like \"0.00 EC50\" or \"0.00 IC50\" to a float, negating if it contains \"IC50\".\"\"\"\n",
    "      try:\n",
    "            # Extract the numeric value\n",
    "            split_value = value.split()\n",
    "            numeric_value = float(split_value[0])\n",
    "          \n",
    "            # Negate if the value contains \"IC50\"\n",
    "            if \"IC50\" in value:\n",
    "                numeric_value = -numeric_value\n",
    "            \n",
    "            return numeric_value\n",
    "      except ValueError:\n",
    "            # Handle cases where the value cannot be converted to a float\n",
    "            return None\n",
    "      \n",
    "df['ic50_ec50'] = df['ic50_ec50'].apply(convert_value)"
   ]
  },
  {
   "cell_type": "code",
   "execution_count": 96,
   "metadata": {},
   "outputs": [
    {
     "data": {
      "text/plain": [
       "(40000.0, -25800.0)"
      ]
     },
     "execution_count": 96,
     "metadata": {},
     "output_type": "execute_result"
    }
   ],
   "source": [
    "df['ic50_ec50'].max(), df['ic50_ec50'].min()"
   ]
  },
  {
   "cell_type": "code",
   "execution_count": 97,
   "metadata": {},
   "outputs": [
    {
     "data": {
      "text/html": [
       "<div>\n",
       "<style scoped>\n",
       "    .dataframe tbody tr th:only-of-type {\n",
       "        vertical-align: middle;\n",
       "    }\n",
       "\n",
       "    .dataframe tbody tr th {\n",
       "        vertical-align: top;\n",
       "    }\n",
       "\n",
       "    .dataframe thead th {\n",
       "        text-align: right;\n",
       "    }\n",
       "</style>\n",
       "<table border=\"1\" class=\"dataframe\">\n",
       "  <thead>\n",
       "    <tr style=\"text-align: right;\">\n",
       "      <th></th>\n",
       "      <th>Sequence</th>\n",
       "      <th>Cmass</th>\n",
       "      <th>Mmass</th>\n",
       "      <th>ic50_ec50</th>\n",
       "      <th>smiles</th>\n",
       "      <th>inchi</th>\n",
       "      <th>function</th>\n",
       "    </tr>\n",
       "  </thead>\n",
       "  <tbody>\n",
       "    <tr>\n",
       "      <th>0</th>\n",
       "      <td>NYKKPKL</td>\n",
       "      <td>890.0780</td>\n",
       "      <td>889.5369</td>\n",
       "      <td>0.0</td>\n",
       "      <td>N[C@@]([H])(CC(=O)N)C(=O)N[C@@]([H])(Cc1ccc(O)...</td>\n",
       "      <td>1S/C42H71N11O10/c1-25(2)22-33(42(62)63)52-38(5...</td>\n",
       "      <td>regulating | re | regulating cell-permeability...</td>\n",
       "    </tr>\n",
       "    <tr>\n",
       "      <th>1</th>\n",
       "      <td>NYKKPKLAAAPALLALLVAPLLAVAA</td>\n",
       "      <td>2601.2117</td>\n",
       "      <td>2599.6143</td>\n",
       "      <td>0.0</td>\n",
       "      <td>N[C@@]([H])(CC(=O)N)C(=O)N[C@@]([H])(Cc1ccc(O)...</td>\n",
       "      <td>1S/C125H214N30O29/c1-62(2)53-86(146-108(166)84...</td>\n",
       "      <td>regulating | re | regulating cell-permeability...</td>\n",
       "    </tr>\n",
       "    <tr>\n",
       "      <th>2</th>\n",
       "      <td>AAVALLPAVLLALLAPAAANYKKPKL</td>\n",
       "      <td>2601.2117</td>\n",
       "      <td>2599.6143</td>\n",
       "      <td>0.0</td>\n",
       "      <td>N[C@@]([H])(C)C(=O)N[C@@]([H])(C)C(=O)N[C@@]([...</td>\n",
       "      <td>1S/C125H214N30O29/c1-62(2)53-85(145-113(171)89...</td>\n",
       "      <td>regulating | re | regulating cell-permeability...</td>\n",
       "    </tr>\n",
       "    <tr>\n",
       "      <th>3</th>\n",
       "      <td>NYKKPKLAAAAAVALLPAVLLALLAP</td>\n",
       "      <td>2601.2117</td>\n",
       "      <td>2599.6143</td>\n",
       "      <td>0.0</td>\n",
       "      <td>N[C@@]([H])(CC(=O)N)C(=O)N[C@@]([H])(Cc1ccc(O)...</td>\n",
       "      <td>1S/C125H214N30O29/c1-62(2)53-86(146-110(168)84...</td>\n",
       "      <td>regulating | re | regulating cell-permeability...</td>\n",
       "    </tr>\n",
       "    <tr>\n",
       "      <th>4</th>\n",
       "      <td>VVYPWTQRF</td>\n",
       "      <td>1195.3651</td>\n",
       "      <td>1194.6167</td>\n",
       "      <td>0.0</td>\n",
       "      <td>NaN</td>\n",
       "      <td>1S/C59H82N14O13/c1-31(2)47(61)54(81)71-48(32(3...</td>\n",
       "      <td>opioid | op | VV-hemorphin-7</td>\n",
       "    </tr>\n",
       "  </tbody>\n",
       "</table>\n",
       "</div>"
      ],
      "text/plain": [
       "                     Sequence      Cmass      Mmass  ic50_ec50  \\\n",
       "0                     NYKKPKL   890.0780   889.5369        0.0   \n",
       "1  NYKKPKLAAAPALLALLVAPLLAVAA  2601.2117  2599.6143        0.0   \n",
       "2  AAVALLPAVLLALLAPAAANYKKPKL  2601.2117  2599.6143        0.0   \n",
       "3  NYKKPKLAAAAAVALLPAVLLALLAP  2601.2117  2599.6143        0.0   \n",
       "4                   VVYPWTQRF  1195.3651  1194.6167        0.0   \n",
       "\n",
       "                                              smiles  \\\n",
       "0  N[C@@]([H])(CC(=O)N)C(=O)N[C@@]([H])(Cc1ccc(O)...   \n",
       "1  N[C@@]([H])(CC(=O)N)C(=O)N[C@@]([H])(Cc1ccc(O)...   \n",
       "2  N[C@@]([H])(C)C(=O)N[C@@]([H])(C)C(=O)N[C@@]([...   \n",
       "3  N[C@@]([H])(CC(=O)N)C(=O)N[C@@]([H])(Cc1ccc(O)...   \n",
       "4                                                NaN   \n",
       "\n",
       "                                               inchi  \\\n",
       "0  1S/C42H71N11O10/c1-25(2)22-33(42(62)63)52-38(5...   \n",
       "1  1S/C125H214N30O29/c1-62(2)53-86(146-108(166)84...   \n",
       "2  1S/C125H214N30O29/c1-62(2)53-85(145-113(171)89...   \n",
       "3  1S/C125H214N30O29/c1-62(2)53-86(146-110(168)84...   \n",
       "4  1S/C59H82N14O13/c1-31(2)47(61)54(81)71-48(32(3...   \n",
       "\n",
       "                                            function  \n",
       "0  regulating | re | regulating cell-permeability...  \n",
       "1  regulating | re | regulating cell-permeability...  \n",
       "2  regulating | re | regulating cell-permeability...  \n",
       "3  regulating | re | regulating cell-permeability...  \n",
       "4                       opioid | op | VV-hemorphin-7  "
      ]
     },
     "execution_count": 97,
     "metadata": {},
     "output_type": "execute_result"
    }
   ],
   "source": [
    "df.head()"
   ]
  },
  {
   "cell_type": "code",
   "execution_count": 98,
   "metadata": {},
   "outputs": [],
   "source": [
    "df.to_csv('cleaned.csv', index=False) # to be used for testing"
   ]
  },
  {
   "cell_type": "code",
   "execution_count": null,
   "metadata": {},
   "outputs": [],
   "source": []
  }
 ],
 "metadata": {
  "kernelspec": {
   "display_name": "Python 3",
   "language": "python",
   "name": "python3"
  },
  "language_info": {
   "codemirror_mode": {
    "name": "ipython",
    "version": 3
   },
   "file_extension": ".py",
   "mimetype": "text/x-python",
   "name": "python",
   "nbconvert_exporter": "python",
   "pygments_lexer": "ipython3",
   "version": "3.12.2"
  }
 },
 "nbformat": 4,
 "nbformat_minor": 2
}
